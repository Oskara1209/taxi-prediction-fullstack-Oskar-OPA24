{
 "cells": [
  {
   "cell_type": "code",
   "execution_count": 2,
   "id": "74a8c051",
   "metadata": {},
   "outputs": [
    {
     "data": {
      "text/html": [
       "<div>\n",
       "<style scoped>\n",
       "    .dataframe tbody tr th:only-of-type {\n",
       "        vertical-align: middle;\n",
       "    }\n",
       "\n",
       "    .dataframe tbody tr th {\n",
       "        vertical-align: top;\n",
       "    }\n",
       "\n",
       "    .dataframe thead th {\n",
       "        text-align: right;\n",
       "    }\n",
       "</style>\n",
       "<table border=\"1\" class=\"dataframe\">\n",
       "  <thead>\n",
       "    <tr style=\"text-align: right;\">\n",
       "      <th></th>\n",
       "      <th>Trip_Distance_km</th>\n",
       "      <th>Time_of_Day</th>\n",
       "      <th>Day_of_Week</th>\n",
       "      <th>Passenger_Count</th>\n",
       "      <th>Traffic_Conditions</th>\n",
       "      <th>Weather</th>\n",
       "      <th>Base_Fare</th>\n",
       "      <th>Per_Km_Rate</th>\n",
       "      <th>Per_Minute_Rate</th>\n",
       "      <th>Trip_Duration_Minutes</th>\n",
       "      <th>Trip_Price</th>\n",
       "    </tr>\n",
       "  </thead>\n",
       "  <tbody>\n",
       "    <tr>\n",
       "      <th>0</th>\n",
       "      <td>19.35</td>\n",
       "      <td>Morning</td>\n",
       "      <td>Weekday</td>\n",
       "      <td>3.0</td>\n",
       "      <td>Low</td>\n",
       "      <td>Clear</td>\n",
       "      <td>3.56</td>\n",
       "      <td>0.80</td>\n",
       "      <td>0.32</td>\n",
       "      <td>53.82</td>\n",
       "      <td>36.2624</td>\n",
       "    </tr>\n",
       "    <tr>\n",
       "      <th>1</th>\n",
       "      <td>47.59</td>\n",
       "      <td>Afternoon</td>\n",
       "      <td>Weekday</td>\n",
       "      <td>1.0</td>\n",
       "      <td>High</td>\n",
       "      <td>Clear</td>\n",
       "      <td>NaN</td>\n",
       "      <td>0.62</td>\n",
       "      <td>0.43</td>\n",
       "      <td>40.57</td>\n",
       "      <td>NaN</td>\n",
       "    </tr>\n",
       "    <tr>\n",
       "      <th>2</th>\n",
       "      <td>36.87</td>\n",
       "      <td>Evening</td>\n",
       "      <td>Weekend</td>\n",
       "      <td>1.0</td>\n",
       "      <td>High</td>\n",
       "      <td>Clear</td>\n",
       "      <td>2.70</td>\n",
       "      <td>1.21</td>\n",
       "      <td>0.15</td>\n",
       "      <td>37.27</td>\n",
       "      <td>52.9032</td>\n",
       "    </tr>\n",
       "    <tr>\n",
       "      <th>3</th>\n",
       "      <td>30.33</td>\n",
       "      <td>Evening</td>\n",
       "      <td>Weekday</td>\n",
       "      <td>4.0</td>\n",
       "      <td>Low</td>\n",
       "      <td>NaN</td>\n",
       "      <td>3.48</td>\n",
       "      <td>0.51</td>\n",
       "      <td>0.15</td>\n",
       "      <td>116.81</td>\n",
       "      <td>36.4698</td>\n",
       "    </tr>\n",
       "    <tr>\n",
       "      <th>4</th>\n",
       "      <td>NaN</td>\n",
       "      <td>Evening</td>\n",
       "      <td>Weekday</td>\n",
       "      <td>3.0</td>\n",
       "      <td>High</td>\n",
       "      <td>Clear</td>\n",
       "      <td>2.93</td>\n",
       "      <td>0.63</td>\n",
       "      <td>0.32</td>\n",
       "      <td>22.64</td>\n",
       "      <td>15.6180</td>\n",
       "    </tr>\n",
       "    <tr>\n",
       "      <th>...</th>\n",
       "      <td>...</td>\n",
       "      <td>...</td>\n",
       "      <td>...</td>\n",
       "      <td>...</td>\n",
       "      <td>...</td>\n",
       "      <td>...</td>\n",
       "      <td>...</td>\n",
       "      <td>...</td>\n",
       "      <td>...</td>\n",
       "      <td>...</td>\n",
       "      <td>...</td>\n",
       "    </tr>\n",
       "    <tr>\n",
       "      <th>995</th>\n",
       "      <td>5.49</td>\n",
       "      <td>Afternoon</td>\n",
       "      <td>Weekend</td>\n",
       "      <td>4.0</td>\n",
       "      <td>Medium</td>\n",
       "      <td>Clear</td>\n",
       "      <td>2.39</td>\n",
       "      <td>0.62</td>\n",
       "      <td>0.49</td>\n",
       "      <td>58.39</td>\n",
       "      <td>34.4049</td>\n",
       "    </tr>\n",
       "    <tr>\n",
       "      <th>996</th>\n",
       "      <td>45.95</td>\n",
       "      <td>Night</td>\n",
       "      <td>Weekday</td>\n",
       "      <td>4.0</td>\n",
       "      <td>Medium</td>\n",
       "      <td>Clear</td>\n",
       "      <td>3.12</td>\n",
       "      <td>0.61</td>\n",
       "      <td>NaN</td>\n",
       "      <td>61.96</td>\n",
       "      <td>62.1295</td>\n",
       "    </tr>\n",
       "    <tr>\n",
       "      <th>997</th>\n",
       "      <td>7.70</td>\n",
       "      <td>Morning</td>\n",
       "      <td>Weekday</td>\n",
       "      <td>3.0</td>\n",
       "      <td>Low</td>\n",
       "      <td>Rain</td>\n",
       "      <td>2.08</td>\n",
       "      <td>1.78</td>\n",
       "      <td>NaN</td>\n",
       "      <td>54.18</td>\n",
       "      <td>33.1236</td>\n",
       "    </tr>\n",
       "    <tr>\n",
       "      <th>998</th>\n",
       "      <td>47.56</td>\n",
       "      <td>Morning</td>\n",
       "      <td>Weekday</td>\n",
       "      <td>1.0</td>\n",
       "      <td>Low</td>\n",
       "      <td>Clear</td>\n",
       "      <td>2.67</td>\n",
       "      <td>0.82</td>\n",
       "      <td>0.17</td>\n",
       "      <td>114.94</td>\n",
       "      <td>61.2090</td>\n",
       "    </tr>\n",
       "    <tr>\n",
       "      <th>999</th>\n",
       "      <td>22.85</td>\n",
       "      <td>Morning</td>\n",
       "      <td>Weekend</td>\n",
       "      <td>3.0</td>\n",
       "      <td>Medium</td>\n",
       "      <td>Clear</td>\n",
       "      <td>4.34</td>\n",
       "      <td>NaN</td>\n",
       "      <td>0.23</td>\n",
       "      <td>29.69</td>\n",
       "      <td>45.4437</td>\n",
       "    </tr>\n",
       "  </tbody>\n",
       "</table>\n",
       "<p>1000 rows × 11 columns</p>\n",
       "</div>"
      ],
      "text/plain": [
       "     Trip_Distance_km Time_of_Day Day_of_Week  Passenger_Count  \\\n",
       "0               19.35     Morning     Weekday              3.0   \n",
       "1               47.59   Afternoon     Weekday              1.0   \n",
       "2               36.87     Evening     Weekend              1.0   \n",
       "3               30.33     Evening     Weekday              4.0   \n",
       "4                 NaN     Evening     Weekday              3.0   \n",
       "..                ...         ...         ...              ...   \n",
       "995              5.49   Afternoon     Weekend              4.0   \n",
       "996             45.95       Night     Weekday              4.0   \n",
       "997              7.70     Morning     Weekday              3.0   \n",
       "998             47.56     Morning     Weekday              1.0   \n",
       "999             22.85     Morning     Weekend              3.0   \n",
       "\n",
       "    Traffic_Conditions Weather  Base_Fare  Per_Km_Rate  Per_Minute_Rate  \\\n",
       "0                  Low   Clear       3.56         0.80             0.32   \n",
       "1                 High   Clear        NaN         0.62             0.43   \n",
       "2                 High   Clear       2.70         1.21             0.15   \n",
       "3                  Low     NaN       3.48         0.51             0.15   \n",
       "4                 High   Clear       2.93         0.63             0.32   \n",
       "..                 ...     ...        ...          ...              ...   \n",
       "995             Medium   Clear       2.39         0.62             0.49   \n",
       "996             Medium   Clear       3.12         0.61              NaN   \n",
       "997                Low    Rain       2.08         1.78              NaN   \n",
       "998                Low   Clear       2.67         0.82             0.17   \n",
       "999             Medium   Clear       4.34          NaN             0.23   \n",
       "\n",
       "     Trip_Duration_Minutes  Trip_Price  \n",
       "0                    53.82     36.2624  \n",
       "1                    40.57         NaN  \n",
       "2                    37.27     52.9032  \n",
       "3                   116.81     36.4698  \n",
       "4                    22.64     15.6180  \n",
       "..                     ...         ...  \n",
       "995                  58.39     34.4049  \n",
       "996                  61.96     62.1295  \n",
       "997                  54.18     33.1236  \n",
       "998                 114.94     61.2090  \n",
       "999                  29.69     45.4437  \n",
       "\n",
       "[1000 rows x 11 columns]"
      ]
     },
     "execution_count": 2,
     "metadata": {},
     "output_type": "execute_result"
    }
   ],
   "source": [
    "import pandas as pd \n",
    "from taxipred.utils.constants import TAXI_CSV_PATH\n",
    "\n",
    "df = pd.read_csv(TAXI_CSV_PATH)\n",
    "df"
   ]
  },
  {
   "cell_type": "code",
   "execution_count": 40,
   "id": "0a37478b",
   "metadata": {},
   "outputs": [
    {
     "name": "stdout",
     "output_type": "stream",
     "text": [
      "<class 'pandas.core.frame.DataFrame'>\n",
      "RangeIndex: 1000 entries, 0 to 999\n",
      "Data columns (total 11 columns):\n",
      " #   Column                 Non-Null Count  Dtype  \n",
      "---  ------                 --------------  -----  \n",
      " 0   Trip_Distance_km       950 non-null    float64\n",
      " 1   Time_of_Day            950 non-null    object \n",
      " 2   Day_of_Week            950 non-null    object \n",
      " 3   Passenger_Count        950 non-null    float64\n",
      " 4   Traffic_Conditions     950 non-null    object \n",
      " 5   Weather                950 non-null    object \n",
      " 6   Base_Fare              950 non-null    float64\n",
      " 7   Per_Km_Rate            950 non-null    float64\n",
      " 8   Per_Minute_Rate        950 non-null    float64\n",
      " 9   Trip_Duration_Minutes  950 non-null    float64\n",
      " 10  Trip_Price             951 non-null    float64\n",
      "dtypes: float64(7), object(4)\n",
      "memory usage: 86.1+ KB\n"
     ]
    }
   ],
   "source": [
    "df.info()"
   ]
  },
  {
   "cell_type": "code",
   "execution_count": 41,
   "id": "c4218bbf",
   "metadata": {},
   "outputs": [
    {
     "data": {
      "text/html": [
       "<div>\n",
       "<style scoped>\n",
       "    .dataframe tbody tr th:only-of-type {\n",
       "        vertical-align: middle;\n",
       "    }\n",
       "\n",
       "    .dataframe tbody tr th {\n",
       "        vertical-align: top;\n",
       "    }\n",
       "\n",
       "    .dataframe thead th {\n",
       "        text-align: right;\n",
       "    }\n",
       "</style>\n",
       "<table border=\"1\" class=\"dataframe\">\n",
       "  <thead>\n",
       "    <tr style=\"text-align: right;\">\n",
       "      <th></th>\n",
       "      <th>Trip_Distance_km</th>\n",
       "      <th>Passenger_Count</th>\n",
       "      <th>Base_Fare</th>\n",
       "      <th>Per_Km_Rate</th>\n",
       "      <th>Per_Minute_Rate</th>\n",
       "      <th>Trip_Duration_Minutes</th>\n",
       "      <th>Trip_Price</th>\n",
       "    </tr>\n",
       "  </thead>\n",
       "  <tbody>\n",
       "    <tr>\n",
       "      <th>count</th>\n",
       "      <td>950.000000</td>\n",
       "      <td>950.000000</td>\n",
       "      <td>950.000000</td>\n",
       "      <td>950.000000</td>\n",
       "      <td>950.000000</td>\n",
       "      <td>950.000000</td>\n",
       "      <td>951.000000</td>\n",
       "    </tr>\n",
       "    <tr>\n",
       "      <th>mean</th>\n",
       "      <td>27.070547</td>\n",
       "      <td>2.476842</td>\n",
       "      <td>3.502989</td>\n",
       "      <td>1.233316</td>\n",
       "      <td>0.292916</td>\n",
       "      <td>62.118116</td>\n",
       "      <td>56.874773</td>\n",
       "    </tr>\n",
       "    <tr>\n",
       "      <th>std</th>\n",
       "      <td>19.905300</td>\n",
       "      <td>1.102249</td>\n",
       "      <td>0.870162</td>\n",
       "      <td>0.429816</td>\n",
       "      <td>0.115592</td>\n",
       "      <td>32.154406</td>\n",
       "      <td>40.469791</td>\n",
       "    </tr>\n",
       "    <tr>\n",
       "      <th>min</th>\n",
       "      <td>1.230000</td>\n",
       "      <td>1.000000</td>\n",
       "      <td>2.010000</td>\n",
       "      <td>0.500000</td>\n",
       "      <td>0.100000</td>\n",
       "      <td>5.010000</td>\n",
       "      <td>6.126900</td>\n",
       "    </tr>\n",
       "    <tr>\n",
       "      <th>25%</th>\n",
       "      <td>12.632500</td>\n",
       "      <td>1.250000</td>\n",
       "      <td>2.730000</td>\n",
       "      <td>0.860000</td>\n",
       "      <td>0.190000</td>\n",
       "      <td>35.882500</td>\n",
       "      <td>33.742650</td>\n",
       "    </tr>\n",
       "    <tr>\n",
       "      <th>50%</th>\n",
       "      <td>25.830000</td>\n",
       "      <td>2.000000</td>\n",
       "      <td>3.520000</td>\n",
       "      <td>1.220000</td>\n",
       "      <td>0.290000</td>\n",
       "      <td>61.860000</td>\n",
       "      <td>50.074500</td>\n",
       "    </tr>\n",
       "    <tr>\n",
       "      <th>75%</th>\n",
       "      <td>38.405000</td>\n",
       "      <td>3.000000</td>\n",
       "      <td>4.260000</td>\n",
       "      <td>1.610000</td>\n",
       "      <td>0.390000</td>\n",
       "      <td>89.055000</td>\n",
       "      <td>69.099350</td>\n",
       "    </tr>\n",
       "    <tr>\n",
       "      <th>max</th>\n",
       "      <td>146.067047</td>\n",
       "      <td>4.000000</td>\n",
       "      <td>5.000000</td>\n",
       "      <td>2.000000</td>\n",
       "      <td>0.500000</td>\n",
       "      <td>119.840000</td>\n",
       "      <td>332.043689</td>\n",
       "    </tr>\n",
       "  </tbody>\n",
       "</table>\n",
       "</div>"
      ],
      "text/plain": [
       "       Trip_Distance_km  Passenger_Count   Base_Fare  Per_Km_Rate  \\\n",
       "count        950.000000       950.000000  950.000000   950.000000   \n",
       "mean          27.070547         2.476842    3.502989     1.233316   \n",
       "std           19.905300         1.102249    0.870162     0.429816   \n",
       "min            1.230000         1.000000    2.010000     0.500000   \n",
       "25%           12.632500         1.250000    2.730000     0.860000   \n",
       "50%           25.830000         2.000000    3.520000     1.220000   \n",
       "75%           38.405000         3.000000    4.260000     1.610000   \n",
       "max          146.067047         4.000000    5.000000     2.000000   \n",
       "\n",
       "       Per_Minute_Rate  Trip_Duration_Minutes  Trip_Price  \n",
       "count       950.000000             950.000000  951.000000  \n",
       "mean          0.292916              62.118116   56.874773  \n",
       "std           0.115592              32.154406   40.469791  \n",
       "min           0.100000               5.010000    6.126900  \n",
       "25%           0.190000              35.882500   33.742650  \n",
       "50%           0.290000              61.860000   50.074500  \n",
       "75%           0.390000              89.055000   69.099350  \n",
       "max           0.500000             119.840000  332.043689  "
      ]
     },
     "execution_count": 41,
     "metadata": {},
     "output_type": "execute_result"
    }
   ],
   "source": [
    "df.describe()"
   ]
  },
  {
   "cell_type": "code",
   "execution_count": 42,
   "id": "8d432a9e",
   "metadata": {},
   "outputs": [
    {
     "data": {
      "text/plain": [
       "Index(['Trip_Distance_km', 'Time_of_Day', 'Day_of_Week', 'Passenger_Count',\n",
       "       'Traffic_Conditions', 'Weather', 'Base_Fare', 'Per_Km_Rate',\n",
       "       'Per_Minute_Rate', 'Trip_Duration_Minutes', 'Trip_Price'],\n",
       "      dtype='object')"
      ]
     },
     "execution_count": 42,
     "metadata": {},
     "output_type": "execute_result"
    }
   ],
   "source": [
    "df.columns"
   ]
  },
  {
   "cell_type": "code",
   "execution_count": 43,
   "id": "d0d0570c",
   "metadata": {},
   "outputs": [
    {
     "data": {
      "text/plain": [
       "(1000, 11)"
      ]
     },
     "execution_count": 43,
     "metadata": {},
     "output_type": "execute_result"
    }
   ],
   "source": [
    "df.shape"
   ]
  },
  {
   "cell_type": "code",
   "execution_count": 49,
   "id": "c935db4e",
   "metadata": {},
   "outputs": [
    {
     "data": {
      "text/plain": [
       "<function matplotlib.pyplot.show(close=None, block=None)>"
      ]
     },
     "execution_count": 49,
     "metadata": {},
     "output_type": "execute_result"
    },
    {
     "data": {
      "image/png": "[encoded data removed]",
      "text/plain": [
       "<Figure size 640x480 with 1 Axes>"
      ]
     },
     "metadata": {},
     "output_type": "display_data"
    }
   ],
   "source": [
    "import matplotlib.pyplot as plt \n",
    "\n",
    "\n",
    "plt.scatter(df[\"Trip_Duration_Minutes\"], df[\"Trip_Price\"],alpha=0.3)\n",
    "plt.xlabel(\"Trip duration in minutes\")\n",
    "plt.ylabel(\"trip prices\")\n",
    "plt.title(\"Price vs trip duration\")\n",
    "plt.show"
   ]
  },
  {
   "cell_type": "code",
   "execution_count": 58,
   "id": "062d2d73",
   "metadata": {},
   "outputs": [
    {
     "data": {
      "text/plain": [
       "<function matplotlib.pyplot.show(close=None, block=None)>"
      ]
     },
     "execution_count": 58,
     "metadata": {},
     "output_type": "execute_result"
    },
    {
     "data": {
      "image/png": "[encoded data removed]",
      "text/plain": [
       "<Figure size 640x480 with 1 Axes>"
      ]
     },
     "metadata": {},
     "output_type": "display_data"
    }
   ],
   "source": [
    "\n",
    "plt.scatter(df[\"Trip_Distance_km\"], df[\"Trip_Price\"],alpha=0.3)\n",
    "plt.xlabel(\"Trip distance\")\n",
    "plt.ylabel(\"trip prices\")\n",
    "plt.title(\"Price vs distance\")\n",
    "plt.show"
   ]
  },
  {
   "cell_type": "code",
   "execution_count": null,
   "id": "b316ef50",
   "metadata": {},
   "outputs": [
    {
     "data": {
      "text/plain": [
       "0    562\n",
       "1    341\n",
       "2     83\n",
       "3     14\n",
       "Name: count, dtype: int64"
      ]
     },
     "execution_count": 28,
     "metadata": {},
     "output_type": "execute_result"
    }
   ],
   "source": [
    "df.isnull().sum(axis=1).value_counts() "
   ]
  },
  {
   "cell_type": "code",
   "execution_count": 62,
   "id": "4fc1b505",
   "metadata": {},
   "outputs": [
    {
     "name": "stdout",
     "output_type": "stream",
     "text": [
      "Before cleaning: 1000\n",
      "After cleaning: 858\n",
      "Rows removed: 142\n"
     ]
    }
   ],
   "source": [
    "print(\"Before cleaning:\", len(df))\n",
    "\n",
    "df_clean = df[(df[\"Trip_Price\"] > 0) & (df[\"Trip_Duration_Minutes\"] >0) & (df[\"Trip_Distance_km\"])].copy()\n",
    "\n",
    "print(\"After cleaning:\", len(df_clean))\n",
    "print(\"Rows removed:\", len(df) - len(df_clean))"
   ]
  },
  {
   "cell_type": "code",
   "execution_count": 65,
   "id": "5ab7e8a6",
   "metadata": {},
   "outputs": [
    {
     "data": {
      "text/plain": [
       "0    562\n",
       "1    253\n",
       "2     40\n",
       "3      3\n",
       "Name: count, dtype: int64"
      ]
     },
     "execution_count": 65,
     "metadata": {},
     "output_type": "execute_result"
    }
   ],
   "source": [
    "df_clean.isnull().sum(axis=1).value_counts()"
   ]
  },
  {
   "cell_type": "code",
   "execution_count": 69,
   "id": "bb3b46c6",
   "metadata": {},
   "outputs": [
    {
     "name": "stdout",
     "output_type": "stream",
     "text": [
      "Trip_Distance_km          0\n",
      "Time_of_Day              45\n",
      "Day_of_Week              41\n",
      "Passenger_Count          41\n",
      "Traffic_Conditions       46\n",
      "Weather                  43\n",
      "Base_Fare                39\n",
      "Per_Km_Rate              41\n",
      "Per_Minute_Rate          46\n",
      "Trip_Duration_Minutes     0\n",
      "Trip_Price                0\n",
      "dtype: int64\n"
     ]
    }
   ],
   "source": [
    "print(df_clean.isnull().sum())"
   ]
  },
  {
   "cell_type": "markdown",
   "id": "b9cccb57",
   "metadata": {},
   "source": [
    "critical rows like distance, price and trip durations have 0 nulls "
   ]
  },
  {
   "cell_type": "code",
   "execution_count": 81,
   "id": "e587d0d9",
   "metadata": {},
   "outputs": [
    {
     "name": "stdout",
     "output_type": "stream",
     "text": [
      "Time_of_Day filled with most common value: Afternoon\n",
      "Day_of_Week filled with most common value: Weekday\n",
      "Traffic_Conditions filled with most common value: Low\n",
      "Weather filled with most common value: Clear\n"
     ]
    }
   ],
   "source": [
    "# Fill categorical with most common\n",
    "\n",
    "cat_cols = [\"Time_of_Day\", \"Day_of_Week\", \"Traffic_Conditions\", \"Weather\"]\n",
    "\n",
    "for c in cat_cols: \n",
    "    if c in df_clean:\n",
    "        most_common = df_clean[c].mode()[0]\n",
    "        df_clean[c] = df_clean[c].fillna(most_common)\n",
    "        print(f\"{c} filled with most common value: {most_common}\")\n"
   ]
  },
  {
   "cell_type": "code",
   "execution_count": 82,
   "id": "fdcd9375",
   "metadata": {},
   "outputs": [
    {
     "name": "stdout",
     "output_type": "stream",
     "text": [
      "Passenger_Count filled with median value: 2.0\n",
      "Base_Fare filled with median value: 3.54\n",
      "Per_Km_Rate filled with median value: 1.22\n",
      "Per_Minute_Rate filled with median value: 0.29\n"
     ]
    }
   ],
   "source": [
    "#Fill numeric with median\n",
    "\n",
    "num_cols = [\"Passenger_Count\", \"Base_Fare\", \"Per_Km_Rate\", \"Per_Minute_Rate\"]\n",
    "\n",
    "for c in num_cols:\n",
    "    if c in df_clean:\n",
    "        median_val = df_clean[c].median()\n",
    "        df_clean[c] = df_clean[c].fillna(median_val)\n",
    "        print(f\"{c} filled with median value: {median_val}\")"
   ]
  },
  {
   "cell_type": "code",
   "execution_count": 84,
   "id": "df61c810",
   "metadata": {},
   "outputs": [
    {
     "name": "stdout",
     "output_type": "stream",
     "text": [
      "Trip_Distance_km         0\n",
      "Time_of_Day              0\n",
      "Day_of_Week              0\n",
      "Passenger_Count          0\n",
      "Traffic_Conditions       0\n",
      "Weather                  0\n",
      "Base_Fare                0\n",
      "Per_Km_Rate              0\n",
      "Per_Minute_Rate          0\n",
      "Trip_Duration_Minutes    0\n",
      "Trip_Price               0\n",
      "0                        0\n",
      "dtype: int64\n"
     ]
    }
   ],
   "source": [
    "print(df_clean.isnull().sum())"
   ]
  },
  {
   "cell_type": "code",
   "execution_count": 86,
   "id": "b4fbd0d3",
   "metadata": {},
   "outputs": [],
   "source": [
    "# change column names \n",
    "df_clean.columns = df_clean.columns.str.lower()"
   ]
  },
  {
   "cell_type": "code",
   "execution_count": 89,
   "id": "250424e1",
   "metadata": {},
   "outputs": [
    {
     "data": {
      "text/plain": [
       "(858, 12)"
      ]
     },
     "execution_count": 89,
     "metadata": {},
     "output_type": "execute_result"
    }
   ],
   "source": [
    "df_clean.shape"
   ]
  },
  {
   "cell_type": "code",
   "execution_count": 88,
   "id": "5469e146",
   "metadata": {},
   "outputs": [
    {
     "name": "stdout",
     "output_type": "stream",
     "text": [
      "(858, 12)\n"
     ]
    },
    {
     "data": {
      "text/html": [
       "<div>\n",
       "<style scoped>\n",
       "    .dataframe tbody tr th:only-of-type {\n",
       "        vertical-align: middle;\n",
       "    }\n",
       "\n",
       "    .dataframe tbody tr th {\n",
       "        vertical-align: top;\n",
       "    }\n",
       "\n",
       "    .dataframe thead th {\n",
       "        text-align: right;\n",
       "    }\n",
       "</style>\n",
       "<table border=\"1\" class=\"dataframe\">\n",
       "  <thead>\n",
       "    <tr style=\"text-align: right;\">\n",
       "      <th></th>\n",
       "      <th>trip_distance_km</th>\n",
       "      <th>time_of_day</th>\n",
       "      <th>day_of_week</th>\n",
       "      <th>passenger_count</th>\n",
       "      <th>traffic_conditions</th>\n",
       "      <th>weather</th>\n",
       "      <th>base_fare</th>\n",
       "      <th>per_km_rate</th>\n",
       "      <th>per_minute_rate</th>\n",
       "      <th>trip_duration_minutes</th>\n",
       "      <th>trip_price</th>\n",
       "      <th>Unnamed: 11</th>\n",
       "    </tr>\n",
       "  </thead>\n",
       "  <tbody>\n",
       "    <tr>\n",
       "      <th>0</th>\n",
       "      <td>19.35</td>\n",
       "      <td>Morning</td>\n",
       "      <td>Weekday</td>\n",
       "      <td>3.0</td>\n",
       "      <td>Low</td>\n",
       "      <td>Clear</td>\n",
       "      <td>3.56</td>\n",
       "      <td>0.80</td>\n",
       "      <td>0.32</td>\n",
       "      <td>53.82</td>\n",
       "      <td>36.2624</td>\n",
       "      <td>Clear</td>\n",
       "    </tr>\n",
       "    <tr>\n",
       "      <th>1</th>\n",
       "      <td>36.87</td>\n",
       "      <td>Evening</td>\n",
       "      <td>Weekend</td>\n",
       "      <td>1.0</td>\n",
       "      <td>High</td>\n",
       "      <td>Clear</td>\n",
       "      <td>2.70</td>\n",
       "      <td>1.21</td>\n",
       "      <td>0.15</td>\n",
       "      <td>37.27</td>\n",
       "      <td>52.9032</td>\n",
       "      <td>Clear</td>\n",
       "    </tr>\n",
       "    <tr>\n",
       "      <th>2</th>\n",
       "      <td>30.33</td>\n",
       "      <td>Evening</td>\n",
       "      <td>Weekday</td>\n",
       "      <td>4.0</td>\n",
       "      <td>Low</td>\n",
       "      <td>Clear</td>\n",
       "      <td>3.48</td>\n",
       "      <td>0.51</td>\n",
       "      <td>0.15</td>\n",
       "      <td>116.81</td>\n",
       "      <td>36.4698</td>\n",
       "      <td>Clear</td>\n",
       "    </tr>\n",
       "    <tr>\n",
       "      <th>3</th>\n",
       "      <td>8.64</td>\n",
       "      <td>Afternoon</td>\n",
       "      <td>Weekend</td>\n",
       "      <td>2.0</td>\n",
       "      <td>Medium</td>\n",
       "      <td>Clear</td>\n",
       "      <td>2.55</td>\n",
       "      <td>1.71</td>\n",
       "      <td>0.48</td>\n",
       "      <td>89.33</td>\n",
       "      <td>60.2028</td>\n",
       "      <td>Clear</td>\n",
       "    </tr>\n",
       "    <tr>\n",
       "      <th>4</th>\n",
       "      <td>3.85</td>\n",
       "      <td>Afternoon</td>\n",
       "      <td>Weekday</td>\n",
       "      <td>4.0</td>\n",
       "      <td>High</td>\n",
       "      <td>Rain</td>\n",
       "      <td>3.51</td>\n",
       "      <td>1.66</td>\n",
       "      <td>0.29</td>\n",
       "      <td>5.05</td>\n",
       "      <td>11.2645</td>\n",
       "      <td>Rain</td>\n",
       "    </tr>\n",
       "  </tbody>\n",
       "</table>\n",
       "</div>"
      ],
      "text/plain": [
       "   trip_distance_km time_of_day day_of_week  passenger_count  \\\n",
       "0             19.35     Morning     Weekday              3.0   \n",
       "1             36.87     Evening     Weekend              1.0   \n",
       "2             30.33     Evening     Weekday              4.0   \n",
       "3              8.64   Afternoon     Weekend              2.0   \n",
       "4              3.85   Afternoon     Weekday              4.0   \n",
       "\n",
       "  traffic_conditions weather  base_fare  per_km_rate  per_minute_rate  \\\n",
       "0                Low   Clear       3.56         0.80             0.32   \n",
       "1               High   Clear       2.70         1.21             0.15   \n",
       "2                Low   Clear       3.48         0.51             0.15   \n",
       "3             Medium   Clear       2.55         1.71             0.48   \n",
       "4               High    Rain       3.51         1.66             0.29   \n",
       "\n",
       "   trip_duration_minutes  trip_price Unnamed: 11  \n",
       "0                  53.82     36.2624       Clear  \n",
       "1                  37.27     52.9032       Clear  \n",
       "2                 116.81     36.4698       Clear  \n",
       "3                  89.33     60.2028       Clear  \n",
       "4                   5.05     11.2645        Rain  "
      ]
     },
     "execution_count": 88,
     "metadata": {},
     "output_type": "execute_result"
    }
   ],
   "source": [
    "from pathlib import Path\n",
    "\n",
    "clean_data_path = Path(\"../src/taxipred/data/taxi_trip_pricing_clean.csv\")\n",
    "df_clean.to_csv(clean_data_path, index= False)\n",
    "\n",
    "check = pd.read_csv(\"../src/taxipred/data/taxi_trip_pricing_clean.csv\")\n",
    "print(check.shape)\n",
    "check.head()"
   ]
  }
 ],
 "metadata": {
  "kernelspec": {
   "display_name": "taxi-prediction-fullstack-Oskar-OPA24",
   "language": "python",
   "name": "python3"
  },
  "language_info": {
   "codemirror_mode": {
    "name": "ipython",
    "version": 3
   },
   "file_extension": ".py",
   "mimetype": "text/x-python",
   "name": "python",
   "nbconvert_exporter": "python",
   "pygments_lexer": "ipython3",
   "version": "3.12.8"
  }
 },
 "nbformat": 4,
 "nbformat_minor": 5
}
